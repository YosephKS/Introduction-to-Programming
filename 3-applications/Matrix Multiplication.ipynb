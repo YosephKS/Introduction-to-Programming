{
 "cells": [
  {
   "cell_type": "markdown",
   "metadata": {},
   "source": [
    "# Matrix Multiplication"
   ]
  },
  {
   "cell_type": "markdown",
   "metadata": {},
   "source": [
    "Author: Yoseph K. Soenggoro"
   ]
  },
  {
   "cell_type": "code",
   "execution_count": 48,
   "metadata": {},
   "outputs": [],
   "source": [
    "from random import random\n",
    "from itertools import product\n",
    "import numpy as np"
   ]
  },
  {
   "cell_type": "code",
   "execution_count": 165,
   "metadata": {},
   "outputs": [
    {
     "data": {
      "text/plain": [
       "'1.16.4'"
      ]
     },
     "execution_count": 165,
     "metadata": {},
     "output_type": "execute_result"
    }
   ],
   "source": [
    "# Check you NumPy Version (I used 1.16.4).\n",
    "# If the program is incompatible with your NumPy version, use pip or conda to set the appropriate version\n",
    "np.__version__"
   ]
  },
  {
   "cell_type": "code",
   "execution_count": 15,
   "metadata": {},
   "outputs": [],
   "source": [
    "# Choose the value of n, the dimension for Matrix X and Y\n",
    "n = 3\n",
    "\n",
    "# Choose d as the range of random value for Matrix X and Y.\n",
    "# By choosing value d, the element of Matrix X and Y will be any real number between 0 and d, but never d.\n",
    "d = 10"
   ]
  },
  {
   "cell_type": "markdown",
   "metadata": {},
   "source": [
    "Before starting to multiply any two matrices, first define two different matrices $X$ and $Y$ using the `random` library."
   ]
  },
  {
   "cell_type": "code",
   "execution_count": 16,
   "metadata": {},
   "outputs": [],
   "source": [
    "# Define Matrix X and Matrix Y\n",
    "X = []\n",
    "Y = []\n",
    "\n",
    "for i in range(0, n):\n",
    "    x_row = []\n",
    "    for j in range(0, n):\n",
    "        x_val = random() * d\n",
    "        x_row.append(x_val)\n",
    "    X.append(x_row)\n",
    "\n",
    "for i in range(0, n):\n",
    "    y_row = []\n",
    "    for j in range(0, n):\n",
    "        y_val = random() * d\n",
    "        y_row.append(y_val)\n",
    "    Y.append(y_row)"
   ]
  },
  {
   "cell_type": "code",
   "execution_count": 43,
   "metadata": {},
   "outputs": [],
   "source": [
    "# Function to print the matrices\n",
    "def print_matrix(X):\n",
    "    matrix_string = ''\n",
    "    for i, j in product(range(0, n), range(0, n)):\n",
    "        matrix_string += f'{X[i][j]}' + ('\\t' if j != n - 1 else '\\n')\n",
    "    print(matrix_string)"
   ]
  },
  {
   "cell_type": "code",
   "execution_count": 44,
   "metadata": {},
   "outputs": [
    {
     "name": "stdout",
     "output_type": "stream",
     "text": [
      "1.411243489014371\t4.823307914767269\t2.9619965649396427\n",
      "8.632221076600207\t6.909318166288182\t4.297076325685831\n",
      "6.741265901114342\t9.161915445688102\t6.166996253979611\n",
      "\n"
     ]
    }
   ],
   "source": [
    "# Print X to Check\n",
    "print_matrix(X)"
   ]
  },
  {
   "cell_type": "code",
   "execution_count": 45,
   "metadata": {},
   "outputs": [
    {
     "name": "stdout",
     "output_type": "stream",
     "text": [
      "7.627644148989169\t4.412768013974525\t4.55820479886072\n",
      "7.864788107651906\t2.491004876229417\t1.2387049762153457\n",
      "1.6601811042693615\t6.587244192044375\t9.966139995991005\n",
      "\n"
     ]
    }
   ],
   "source": [
    "# Print Y to Check\n",
    "print_matrix(Y)"
   ]
  },
  {
   "cell_type": "markdown",
   "metadata": {},
   "source": [
    "### Matrix Multiplication Formula (Linear Algebra)\n",
    "\n",
    "Given a $n \\times n$ matrices $X$ and $Y$, as follows:\n",
    "\n",
    "\\begin{align}\n",
    "X =\n",
    "\\begin{bmatrix}\n",
    "    x_{1, 1} & x_{1, 2} & \\dots & x_{1, n} \\\\\n",
    "    x_{2, 1} & x_{2, 2} & \\dots & x_{2, n} \\\\\n",
    "    \\vdots & \\vdots & \\ddots & \\vdots \\\\\n",
    "    x_{n, 1} & x_{n, 2} & \\dots & x_{n, n}\n",
    "\\end{bmatrix}\n",
    ", \\quad\n",
    "Y =\n",
    "\\begin{bmatrix}\n",
    "    y_{1, 1} & y_{1, 2} & \\dots & y_{1, n} \\\\\n",
    "    y_{2, 1} & y_{2, 2} & \\dots & y_{2, n} \\\\\n",
    "    \\vdots & \\vdots & \\ddots & \\vdots \\\\\n",
    "    y_{n, 1} & y_{n, 2} & \\dots & y_{n, n}\n",
    "\\end{bmatrix}\n",
    "\\end{align}\n",
    "\n",
    "then the multiplication is defined by the following formula:\n",
    "\\begin{align}\n",
    "    X \\cdot Y = \\left[\\sum_{k = 1}^n x_{i, k} \\cdot y_{j, k}\\right]_{i, j = 1}^n\n",
    "\\end{align}"
   ]
  },
  {
   "cell_type": "markdown",
   "metadata": {},
   "source": [
    "### Implementation \\#1: Functional Paradigm"
   ]
  },
  {
   "cell_type": "markdown",
   "metadata": {},
   "source": [
    "The simplest way to implement Matrix Multiplication is by using modular functions, that can be used and reused multiple times within a program. Given the formula above, the Python implementation will be as follows."
   ]
  },
  {
   "cell_type": "code",
   "execution_count": 25,
   "metadata": {},
   "outputs": [],
   "source": [
    "# Function to implement Matrix Multiplication of Matrix X and Y\n",
    "def matrix_mul(X, Y):\n",
    "    Z = []\n",
    "\n",
    "    for i in range(0, n):\n",
    "        z_row = []\n",
    "        for j in range(0, n):\n",
    "            z_val = 0\n",
    "            for k in range(0, n):\n",
    "                z_val += X[i][k] * Y[k][j]\n",
    "            z_row.append(z_val)\n",
    "        Z.append(z_row)\n",
    "    return Z"
   ]
  },
  {
   "cell_type": "markdown",
   "metadata": {},
   "source": [
    "For the multiplication between $X$ and $Y$, the result will be kept in variable $Z$."
   ]
  },
  {
   "cell_type": "code",
   "execution_count": 51,
   "metadata": {},
   "outputs": [
    {
     "name": "stdout",
     "output_type": "stream",
     "text": [
      "53.61620859740801\t37.75376833274768\t41.92706479366027\n",
      "127.31775885342397\t83.60902536916785\t90.7313025662656\n",
      "133.714831698932\t93.1935288493318\t103.53812885700651\n",
      "\n"
     ]
    }
   ],
   "source": [
    "Z = matrix_mul(X, Y)\n",
    "print_matrix(Z)"
   ]
  },
  {
   "cell_type": "markdown",
   "metadata": {},
   "source": [
    "### Check Validity on Matrix Multiplication Function"
   ]
  },
  {
   "cell_type": "markdown",
   "metadata": {},
   "source": [
    "Despite having a working matrix multiplication implementation in functional form, we still have no idea whether the result from our implementation is right or wrong. Therefore, one method to validate the result will be doing a comparison with `NumPy`'s implementation of `matmul` API."
   ]
  },
  {
   "cell_type": "code",
   "execution_count": 60,
   "metadata": {},
   "outputs": [],
   "source": [
    "# Function to compare the Matrix Multiplication Function to NumPy's matmul\n",
    "def check_matrix_mul(X, Y):\n",
    "    print('Starting Validation Process...\\n\\n\\n')\n",
    "    x = np.array(X)\n",
    "    y = np.array(Y)\n",
    "    z = np.matmul(x, y)\n",
    "    Z = matrix_mul(X, Y)\n",
    "    for i, j in product(range(0, n), range(0, n)):      \n",
    "        print(f'Checking index {(i, j)}... \\t\\t\\t {round(z[i][j], 2) == round(Z[i][j], 2)}')\n",
    "    \n",
    "    print('\\n')\n",
    "    print('Validation Process Completed')"
   ]
  },
  {
   "cell_type": "code",
   "execution_count": 61,
   "metadata": {},
   "outputs": [
    {
     "name": "stdout",
     "output_type": "stream",
     "text": [
      "Starting Validation Process...\n",
      "\n",
      "\n",
      "\n",
      "Checking index (0, 0)... \t\t\t True\n",
      "Checking index (0, 1)... \t\t\t True\n",
      "Checking index (0, 2)... \t\t\t True\n",
      "Checking index (1, 0)... \t\t\t True\n",
      "Checking index (1, 1)... \t\t\t True\n",
      "Checking index (1, 2)... \t\t\t True\n",
      "Checking index (2, 0)... \t\t\t True\n",
      "Checking index (2, 1)... \t\t\t True\n",
      "Checking index (2, 2)... \t\t\t True\n",
      "\n",
      "\n",
      "Validation Process Completed\n"
     ]
    }
   ],
   "source": [
    "a = check_matrix_mul(X, Y)"
   ]
  },
  {
   "cell_type": "markdown",
   "metadata": {},
   "source": [
    "Since after checking all the results are True, then it can be confirmed that the implentation works sucessfully."
   ]
  },
  {
   "cell_type": "markdown",
   "metadata": {},
   "source": [
    "### Implementation \\#2: Object-Oriented Paradigm"
   ]
  },
  {
   "cell_type": "markdown",
   "metadata": {},
   "source": [
    "Another paradigm that can be used is OOP or Object-Oriented Programming, which represents a program as a set of Objects with various fields and methods to interact with the defined Object. In this case, first defined a generalized form of matrices, which is known as Tensors. The implementation of `Tensor` will be as follows: "
   ]
  },
  {
   "cell_type": "code",
   "execution_count": 250,
   "metadata": {},
   "outputs": [],
   "source": [
    "class Tensor:\n",
    "    def __init__(self, X):\n",
    "        validation = self.__checking_validity(X)\n",
    "        \n",
    "        self.__dim = 2\n",
    "        self.tensor = X if validation else []\n",
    "        self.__dimension = self.__get_dimension_private(X) if validation else -1\n",
    "    \n",
    "    def __get_dimension_private(self, X):\n",
    "        if not check_child(X):\n",
    "            return 1\n",
    "        else:\n",
    "            # Check whether the size of each child are the same\n",
    "            for i in range(0, len(X)):\n",
    "                if not check_child(X[i]):\n",
    "                    return self.__dim\n",
    "                else:\n",
    "                    get_dimension(X[i])\n",
    "            self.__dim += 1\n",
    "            return self.__dim\n",
    "    \n",
    "    def __checking_validity(self, X):\n",
    "        self.__dim = 2\n",
    "        valid = True\n",
    "        if not check_child(X):\n",
    "            return valid\n",
    "        else:\n",
    "            dim_0 = get_dimension(X[0])\n",
    "            # Check whether the size of each child are the same\n",
    "            for i in range(1, len(X)):\n",
    "                self.__dim = 2\n",
    "                if get_dimension(X[i]) != dim_0:\n",
    "                    valid &= False\n",
    "                    break\n",
    "        return valid\n",
    "    \n",
    "    # Getting the Value of Tensor Rank/Dimension (Not to be confused with Matrix Dimension)\n",
    "    def get_dimension(self):\n",
    "        return self.__dimension"
   ]
  },
  {
   "cell_type": "markdown",
   "metadata": {},
   "source": [
    "Since Tensors are generalized form of matrices, it implies that it is possible to define `Matrix` class as a child class of `Tensor` with additional methods (some overrides the `Tensor`'s original methods). For operators, I only managed to override the multiplication operator for the sake of implementing Matrix Multiplication. Thus, other operator such as `+`, `-`, `/`, and others will not be available for the current implementation."
   ]
  },
  {
   "cell_type": "code",
   "execution_count": 305,
   "metadata": {},
   "outputs": [],
   "source": [
    "class Matrix(Tensor):\n",
    "    def __init__(self, X):\n",
    "        super().__init__(X)\n",
    "        self.__matrix_string = ''\n",
    "        \n",
    "    def __str__(self):\n",
    "        return self.__matrix_string if self.__check_matrix_validation() else ''\n",
    "            \n",
    "    # Check whether the given input X is a valid Matrix\n",
    "    def __check_matrix_validation(self):\n",
    "        valid = True\n",
    "        try:\n",
    "            for i, j in product(range(0, n), range(0, n)):\n",
    "                self.__matrix_string += f'{self.tensor[i][j]}' + ('\\t' if j != n - 1 else '\\n')\n",
    "        except:\n",
    "            valid = False\n",
    "            print('Matrix is Invalid. Create New Instance with appropriate inputs.')\n",
    "            \n",
    "        return valid\n",
    "            \n",
    "    # Get Matrix Dimension: Number of Columns and Rows\n",
    "    def get_dimension(self):\n",
    "        print(f'Matrix Dimension: ({len(self.tensor)}, {len(self.tensor[0])})' if self.__check_matrix_validation() else -1)\n",
    "        return [len(self.tensor), len(self.tensor[0])]\n",
    "    \n",
    "    # Overriding Multiplication Operator for Matrix Multiplication\n",
    "    # and Integer-Matrix Multiplication\n",
    "    def __mul__(self, other):\n",
    "        if isinstance(other, Matrix):\n",
    "            Z = []\n",
    "            for i in range(0, n):\n",
    "                z_row = []\n",
    "                for j in range(0, n):\n",
    "                    z_val = 0\n",
    "                    for k in range(0, n):\n",
    "                        z_val += self.tensor[i][k] * other.tensor[k][j]\n",
    "                    z_row.append(z_val)\n",
    "                Z.append(z_row)\n",
    "            return Matrix(Z)\n",
    "        elif isinstance(other, int):\n",
    "            Z = []\n",
    "            for i in range(0, n):\n",
    "                z_row = []\n",
    "                for j in range(0, n):\n",
    "                    z_row.append(self.tensor[i][j] * other)\n",
    "                Z.append(z_row)\n",
    "            return Matrix(Z)\n",
    "        else:\n",
    "            return NotImplemented\n",
    "    \n",
    "    # Overriding Reverse Multiplication to support Matrix-Integer Multiplication\n",
    "    def __rmul__(self, other):\n",
    "        if isinstance(other, int):\n",
    "            Z = []\n",
    "            for i in range(0, n):\n",
    "                z_row = []\n",
    "                for j in range(0, n):\n",
    "                    z_row.append(self.tensor[i][j] * other)\n",
    "                Z.append(z_row)\n",
    "            return Matrix(Z)\n",
    "        else:\n",
    "            return NotImplemented"
   ]
  },
  {
   "cell_type": "code",
   "execution_count": 308,
   "metadata": {},
   "outputs": [
    {
     "name": "stdout",
     "output_type": "stream",
     "text": [
      "53.61620859740801\t37.75376833274768\t41.92706479366027\n",
      "127.31775885342397\t83.60902536916785\t90.7313025662656\n",
      "133.714831698932\t93.1935288493318\t103.53812885700651\n",
      "\n"
     ]
    }
   ],
   "source": [
    "# Transform X and Y to Matrix Object\n",
    "x_obj = Matrix(X)\n",
    "y_obj = Matrix(Y)\n",
    "\n",
    "# Implement Matrix Multiplication as follows\n",
    "z_obj = x_obj * y_obj\n",
    "print(z_obj)"
   ]
  },
  {
   "cell_type": "markdown",
   "metadata": {},
   "source": [
    "### Check Validity on Matrix Multiplication using OOP"
   ]
  },
  {
   "cell_type": "markdown",
   "metadata": {},
   "source": [
    "Similar to the previous section, we still have no idea whether the result from our implementation is right or wrong. Hence, validation is highly important. Therefore, one method to validate the result will be again doing a comparison with `NumPy`'s implementation of `matmul` API."
   ]
  },
  {
   "cell_type": "code",
   "execution_count": 309,
   "metadata": {},
   "outputs": [],
   "source": [
    "# Function to compare the Matrix Multiplication Function to Numpy's matmul\n",
    "def check_matrix_mul_oop(X, Y):\n",
    "    print('Starting Validation Process...\\n\\n\\n')\n",
    "    x = np.array(X)\n",
    "    y = np.array(Y)\n",
    "    z = np.matmul(x, y)\n",
    "    Z = Matrix(X) * Matrix(Y)\n",
    "    for i, j in product(range(0, n), range(0, n)):      \n",
    "        print(f'Checking index {(i, j)}... \\t\\t\\t {round(z[i][j], 2) == round(Z.tensor[i][j], 2)}')\n",
    "    \n",
    "    print('\\n')\n",
    "    print('Validation Process Completed')"
   ]
  },
  {
   "cell_type": "code",
   "execution_count": 310,
   "metadata": {},
   "outputs": [
    {
     "name": "stdout",
     "output_type": "stream",
     "text": [
      "Starting Validation Process...\n",
      "\n",
      "\n",
      "\n",
      "Checking index (0, 0)... \t\t\t True\n",
      "Checking index (0, 1)... \t\t\t True\n",
      "Checking index (0, 2)... \t\t\t True\n",
      "Checking index (1, 0)... \t\t\t True\n",
      "Checking index (1, 1)... \t\t\t True\n",
      "Checking index (1, 2)... \t\t\t True\n",
      "Checking index (2, 0)... \t\t\t True\n",
      "Checking index (2, 1)... \t\t\t True\n",
      "Checking index (2, 2)... \t\t\t True\n",
      "\n",
      "\n",
      "Validation Process Completed\n"
     ]
    }
   ],
   "source": [
    "a = check_matrix_mul_oop(X, Y)"
   ]
  },
  {
   "cell_type": "markdown",
   "metadata": {},
   "source": [
    "Since after checking all the results are True, then it can be confirmed that the implentation works sucessfully."
   ]
  },
  {
   "cell_type": "markdown",
   "metadata": {},
   "source": [
    "# Python Libraries"
   ]
  },
  {
   "cell_type": "markdown",
   "metadata": {},
   "source": [
    "- [NumPy](https://numpy.org/)"
   ]
  }
 ],
 "metadata": {
  "kernelspec": {
   "display_name": "Python 3",
   "language": "python",
   "name": "python3"
  },
  "language_info": {
   "codemirror_mode": {
    "name": "ipython",
    "version": 3
   },
   "file_extension": ".py",
   "mimetype": "text/x-python",
   "name": "python",
   "nbconvert_exporter": "python",
   "pygments_lexer": "ipython3",
   "version": "3.7.3"
  }
 },
 "nbformat": 4,
 "nbformat_minor": 2
}
